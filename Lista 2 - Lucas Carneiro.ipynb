{
 "cells": [
  {
   "cell_type": "markdown",
   "metadata": {},
   "source": [
    "## Lista 2 - Lucas Carneiro"
   ]
  },
  {
   "cell_type": "markdown",
   "metadata": {},
   "source": [
    "Importando e preparando os dados"
   ]
  },
  {
   "cell_type": "code",
   "execution_count": 3,
   "metadata": {},
   "outputs": [
    {
     "name": "stdout",
     "output_type": "stream",
     "text": [
      "Populating the interactive namespace from numpy and matplotlib\n"
     ]
    }
   ],
   "source": [
    "import os\n",
    "\n",
    "import nltk\n",
    "from nltk.corpus import machado\n",
    "from nltk.tokenize import WordPunctTokenizer\n",
    "from nltk.corpus import stopwords\n",
    "from nltk.stem.snowball import PortugueseStemmer\n",
    "\n",
    "import string\n",
    "\n",
    "from collections import defaultdict\n",
    "\n",
    "import matplotlib.pylab as plt2\n",
    "\n",
    "import numpy as np\n",
    "from numpy.linalg import norm\n",
    "\n",
    "from gensim import corpora, models, similarities\n",
    "\n",
    "%pylab inline"
   ]
  },
  {
   "cell_type": "code",
   "execution_count": 5,
   "metadata": {
    "collapsed": true
   },
   "outputs": [],
   "source": [
    "#Organizando textos\n",
    "textos = [machado.raw(id) for id in machado.fileids()]\n",
    "swu = stopwords.words('portuguese') + list (string.punctuation)\n",
    "stemmer = PortugueseStemmer()\n",
    "\n",
    "textos_limpos = []\n",
    "for texto in textos:\n",
    "    tlimpo = [stemmer.stem(token.lower()) for token in WordPunctTokenizer().tokenize(texto) if token not in swu]\n",
    "    textos_limpos.append(tlimpo)\n",
    "\n",
    "#Gerando coleção de textos\n",
    "T = nltk.TextCollection(textos_limpos)"
   ]
  },
  {
   "cell_type": "code",
   "execution_count": 11,
   "metadata": {
    "collapsed": true
   },
   "outputs": [],
   "source": [
    "#Gerando vocabulário de palavras únicas de todos os textos\n",
    "vocab = set([])\n",
    "for texto in textos_limpos:\n",
    "    vocab = vocab.union(set(texto))\n",
    "vocab = list(vocab)"
   ]
  },
  {
   "cell_type": "code",
   "execution_count": 27,
   "metadata": {},
   "outputs": [
    {
     "name": "stdout",
     "output_type": "stream",
     "text": [
      "246 textos na coleção\n",
      "25980 palavras únicas na coleção\n"
     ]
    }
   ],
   "source": [
    "print(str(len(textos_limpos)) + ' textos na coleção')\n",
    "print(str(len(vocab)) + ' palavras únicas na coleção')"
   ]
  },
  {
   "cell_type": "markdown",
   "metadata": {},
   "source": [
    "### Exercício 1"
   ]
  },
  {
   "cell_type": "markdown",
   "metadata": {},
   "source": [
    "Definindo consulta"
   ]
  },
  {
   "cell_type": "code",
   "execution_count": 24,
   "metadata": {
    "collapsed": true
   },
   "outputs": [],
   "source": [
    "palavras = \"ator conde cachorro\"\n",
    "consulta = [stemmer.stem(token.lower()) for token in WordPunctTokenizer().tokenize(palavras) if token not in swu]"
   ]
  },
  {
   "cell_type": "markdown",
   "metadata": {},
   "source": [
    "Calculando valores de frequência sobre a consulta"
   ]
  },
  {
   "cell_type": "code",
   "execution_count": 38,
   "metadata": {
    "collapsed": true
   },
   "outputs": [],
   "source": [
    "#Frequência binária\n",
    "bin_matrix = np.zeros((len(textos_limpos),len(consulta)))\n",
    "#Frequência no texto\n",
    "tf_matrix = np.zeros((len(textos_limpos),len(consulta)))\n",
    "#Frequência por tf_idf\n",
    "tfidf_matrix = np.zeros((len(textos_limpos),len(consulta)))\n",
    "\n",
    "for j, termo in enumerate(consulta):\n",
    "    for i, texto in enumerate(textos_limpos):\n",
    "        tfidf_matrix[i,j] = T.tf_idf(termo,texto)\n",
    "        tf_matrix[i,j] = T.tf(termo,texto)\n",
    "        if tf_matrix[i,j] > 0:\n",
    "            bin_matrix[i,j] = 1"
   ]
  },
  {
   "cell_type": "markdown",
   "metadata": {},
   "source": [
    "Verificando matrizes"
   ]
  },
  {
   "cell_type": "code",
   "execution_count": 55,
   "metadata": {},
   "outputs": [
    {
     "name": "stdout",
     "output_type": "stream",
     "text": [
      "[[ 0.  1.  1.]\n",
      " [ 1.  1.  0.]\n",
      " [ 1.  1.  0.]]\n",
      "(246, 3)\n",
      "\n",
      "\n",
      "[[  0.00000000e+00   8.45284720e-05   2.81761573e-05]\n",
      " [  3.90731841e-05   3.51658657e-04   0.00000000e+00]\n",
      " [  2.95124543e-05   5.90249085e-05   0.00000000e+00]]\n",
      "(246, 3)\n",
      "\n",
      "\n",
      "[[  0.00000000e+00   1.62447882e-04   8.51039668e-05]\n",
      " [  7.96934956e-05   6.75822036e-04   0.00000000e+00]\n",
      " [  6.01934728e-05   1.13434813e-04   0.00000000e+00]]\n",
      "(246, 3)\n"
     ]
    }
   ],
   "source": [
    "#Binário\n",
    "print(bin_matrix[:3,:])\n",
    "print(bin_matrix.shape)\n",
    "print('\\n')\n",
    "\n",
    "#Frequência\n",
    "print(tf_matrix[:3,:])\n",
    "print(tf_matrix.shape)\n",
    "print('\\n')\n",
    "\n",
    "#Tf_idf\n",
    "print(tfidf_matrix[:3,:])\n",
    "print(tfidf_matrix.shape)"
   ]
  },
  {
   "cell_type": "markdown",
   "metadata": {},
   "source": [
    "Vetorizando e ordenando valores"
   ]
  },
  {
   "cell_type": "code",
   "execution_count": 80,
   "metadata": {
    "collapsed": true
   },
   "outputs": [],
   "source": [
    "#Função de suporte\n",
    "def ordem(q,MN):\n",
    "    return [np.dot(q,r) for r in MN]\n",
    "\n",
    "#Matrizes normalizadas\n",
    "Mbin_Norm = np.array([r/norm(r) if norm(r) !=0 else np.zeros(len(r)) for r in bin_matrix])\n",
    "Mtf_Norm = np.array([r/norm(r) if norm(r) !=0 else np.zeros(len(r)) for r in tf_matrix])\n",
    "Mtfidf_Norm = np.array([r/norm(r) if norm(r) !=0 else np.zeros(len(r)) for r in tfidf_matrix])\n",
    "\n",
    "#Construção de vetores ordenados\n",
    "vetor_tfidf = np.array([T.tf_idf(w,consulta) for w in consulta])\n",
    "vetor_tfidf /= norm(vetor_tfidf)\n",
    "resp_tfidf = ordem(vetor_tfidf,Mtfidf_Norm)\n",
    "\n",
    "vetor_tf = np.array([T.tf(w,consulta) for w in consulta])\n",
    "vetor_tf /= norm(vetor_tf)\n",
    "resp_tf = ordem(vetor_tf,Mtf_Norm)\n",
    "\n",
    "vetor_bin = np.ones(len(consulta))\n",
    "vetor_bin /= norm(vetor_bin)\n",
    "resp_bin = ordem(vetor_bin,Mbin_Norm)\n",
    "\n",
    "vtfidf = filter(lambda x : x[0]!=0.0, zip(resp_tfidf,range(len(textos_limpos))))\n",
    "vtf = filter(lambda x : x[0]!=0.0, zip(resp_tf,range(len(textos_limpos))))\n",
    "vbin = filter(lambda x : x[0]!=0.0, zip(resp_bin,range(len(textos_limpos))))\n",
    "\n",
    "#Ordenação\n",
    "resposta_tfidf = sorted(vtfidf, reverse=True) \n",
    "resposta_tf = sorted(vtf, reverse=True)\n",
    "resposta_bin = sorted(vbin, reverse=True)"
   ]
  },
  {
   "cell_type": "markdown",
   "metadata": {},
   "source": [
    "A seguir, vamos visualizar e comparar os resultados encontrados"
   ]
  },
  {
   "cell_type": "code",
   "execution_count": 122,
   "metadata": {
    "scrolled": true
   },
   "outputs": [
    {
     "name": "stdout",
     "output_type": "stream",
     "text": [
      "[(1.0000000000000002, 229), (1.0000000000000002, 227), (1.0000000000000002, 193), (1.0000000000000002, 191), (1.0000000000000002, 3), (0.81649658092772603, 231), (0.81649658092772603, 230), (0.81649658092772603, 222), (0.81649658092772603, 190), (0.81649658092772603, 187)]\n",
      "\n",
      "\n",
      "[(0.92582009977255142, 3), (0.81649658092772603, 231), (0.81649658092772603, 227), (0.81649658092772603, 140), (0.81649658092772603, 85), (0.81649658092772592, 184), (0.81616352091756905, 139), (0.80064076902543568, 222), (0.78508101572886191, 185), (0.78331865189295535, 191)]\n",
      "\n",
      "\n",
      "[(0.90123094742034704, 3), (0.83406585511997666, 230), (0.80040673971956733, 227), (0.75335772667895973, 0), (0.75330472343906929, 229), (0.74003315767050182, 191), (0.73307223107008035, 232), (0.73307223107008035, 219), (0.73307223107008035, 114), (0.73307223107008035, 95)]\n"
     ]
    }
   ],
   "source": [
    "consultas_comparadas = 10\n",
    "\n",
    "print(resposta_bin[:consultas_comparadas])\n",
    "print('\\n')\n",
    "print(resposta_tf[:consultas_comparadas])\n",
    "print('\\n')\n",
    "print(resposta_tfidf[:consultas_comparadas])"
   ]
  },
  {
   "cell_type": "markdown",
   "metadata": {},
   "source": [
    "A consulta realizada apresenta resultados parecidos entre as formas de frequência.\n",
    "Mesmo que quando postos em ordem tenhamos posições diferentes, os documentos individualmente se encontram em posições próximas nos vetores."
   ]
  },
  {
   "cell_type": "markdown",
   "metadata": {},
   "source": [
    "### Exercício 2"
   ]
  },
  {
   "cell_type": "markdown",
   "metadata": {},
   "source": [
    "Agora, iremos comparar como a frequência das palavras únicas se diferenciam entre os textos"
   ]
  },
  {
   "cell_type": "code",
   "execution_count": 124,
   "metadata": {
    "collapsed": true
   },
   "outputs": [],
   "source": [
    "freq_m = np.zeros((len(textos_limpos),len(vocab)))\n",
    "\n",
    "for j, termo in enumerate(vocab):\n",
    "    for i, texto in enumerate(textos_limpos):\n",
    "        freq_m[i,j] = T.tf_idf(termo,texto)"
   ]
  },
  {
   "cell_type": "markdown",
   "metadata": {},
   "source": [
    "Para melhor visualização normalizaremos a matrix"
   ]
  },
  {
   "cell_type": "code",
   "execution_count": 126,
   "metadata": {
    "collapsed": true
   },
   "outputs": [],
   "source": [
    "freq_Norm = np.array([r/norm(r) if norm(r) !=0 else np.zeros(len(r)) for r in freq_m])"
   ]
  },
  {
   "cell_type": "markdown",
   "metadata": {},
   "source": [
    "A imagem a seguir revela como os termos se distribuem entre cada um dos textos"
   ]
  },
  {
   "cell_type": "code",
   "execution_count": 139,
   "metadata": {},
   "outputs": [
    {
     "data": {
      "image/png": "[encoded data removed]",
      "text/plain": [
       "<matplotlib.figure.Figure at 0x524e3532e8>"
      ]
     },
     "metadata": {},
     "output_type": "display_data"
    }
   ],
   "source": [
    "fig = plt.figure()\n",
    "ax = fig.add_subplot(1,1,1)\n",
    "ax.set_aspect('equal')\n",
    "plt.imshow(freq_Norm[:,:500], interpolation='nearest', cmap=plt.cm.ocean)\n",
    "plt.colorbar()\n",
    "plt.show()"
   ]
  },
  {
   "cell_type": "markdown",
   "metadata": {},
   "source": [
    "### Exercício 3"
   ]
  },
  {
   "cell_type": "markdown",
   "metadata": {},
   "source": [
    "Utilizaremos as funções do Gensim para criar um novo corpus similar ao já utilizado só que em um formato preparado para o uso das funções específicas deste pacote."
   ]
  },
  {
   "cell_type": "code",
   "execution_count": 6,
   "metadata": {
    "collapsed": true
   },
   "outputs": [],
   "source": [
    "#Primeiro devemos gerar um 'dicionário' para as palavras únicas de forma que cada palavra tenha um id correspondente\n",
    "dictionary = corpora.Dictionary(textos_limpos)\n",
    "\n",
    "#Prosseguimos então para gerar o corpus que irá relacionar o 'id' da palavra com sua frequência no texto\n",
    "#O famoso bag-of-words\n",
    "corpus = [dictionary.doc2bow(text) for text in textos_limpos]"
   ]
  },
  {
   "cell_type": "code",
   "execution_count": 8,
   "metadata": {},
   "outputs": [
    {
     "data": {
      "text/plain": [
       "[(0, 88),\n",
       " (1, 3),\n",
       " (2, 2),\n",
       " (3, 3),\n",
       " (4, 3),\n",
       " (5, 8),\n",
       " (6, 22),\n",
       " (7, 1),\n",
       " (8, 1),\n",
       " (9, 1)]"
      ]
     },
     "execution_count": 8,
     "metadata": {},
     "output_type": "execute_result"
    }
   ],
   "source": [
    "corpus[0][:10]"
   ]
  },
  {
   "cell_type": "markdown",
   "metadata": {},
   "source": [
    "### Exercício 4"
   ]
  },
  {
   "cell_type": "markdown",
   "metadata": {},
   "source": [
    "Para gerar o modelo LSI de forma otimizada é aconselhavel utilizar o corpus gerado pelo modelo TFIDF."
   ]
  },
  {
   "cell_type": "code",
   "execution_count": 9,
   "metadata": {
    "collapsed": true
   },
   "outputs": [],
   "source": [
    "#Construção de modelo TFIDF\n",
    "mod_tfidf = models.TfidfModel(corpus)\n",
    "corpus_tfidf = mod_tfidf[corpus]\n",
    "\n",
    "#Construção de modelo LSI\n",
    "mod_lsi = models.LsiModel(corpus_tfidf, id2word=dictionary, num_topics=200)\n",
    "corpus_lsi = mod_lsi[corpus_tfidf] "
   ]
  },
  {
   "cell_type": "markdown",
   "metadata": {},
   "source": [
    "Com nosso modelo e corpus gerados, vamos prosseguimos para interpreta os topicos gerados"
   ]
  },
  {
   "cell_type": "code",
   "execution_count": 12,
   "metadata": {},
   "outputs": [
    {
     "data": {
      "text/plain": [
       "[(0,\n",
       "  '0.345*\"--\" + 0.272*\"\\x97\" + 0.103*\"sr\" + 0.085*\"poet\" + 0.079*\"luís\" + 0.070*\"...\" + 0.061*\"d\" + 0.059*\"crític\" + 0.058*\"camil\" + 0.057*\"\\x93\"'),\n",
       " (1,\n",
       "  '-0.865*\"--\" + 0.244*\"\\x97\" + -0.078*\"félix\" + -0.071*\"helen\" + -0.052*\"cavalc\" + -0.050*\"beatriz\" + -0.050*\"oliv\" + -0.046*\"elis\" + -0.043*\"lalau\" + -0.043*\"estáci\"'),\n",
       " (2,\n",
       "  '-0.344*\"\\x97\" + 0.164*\"crític\" + 0.154*\"poet\" + 0.151*\"sr\" + -0.133*\"luís\" + 0.129*\"alenc\" + -0.125*\"--\" + 0.122*\"dramát\" + 0.111*\"poes\" + 0.105*\"autor\"')]"
      ]
     },
     "execution_count": 12,
     "metadata": {},
     "output_type": "execute_result"
    }
   ],
   "source": [
    "mod_lsi.print_topics(3)"
   ]
  },
  {
   "cell_type": "markdown",
   "metadata": {},
   "source": [
    "Como podemos obsevar na resposta acima, ainda existem no textos alguns símbolos que podem atraplhar na análise.\n",
    "\n",
    "Ainda assim, temos a intuição de que existe alguma relação entre os termos '--', 'x97' e 'sr' e que estes são os maiores contribuidores para determinar o quanto um texto está relacionado ao primeiro tópico.\n",
    "\n",
    "A seguir geraremos uma pequena ilustração de quanto os 10 primeiros tópicos caracterizam o 'assunto' do primeiro texto do nosso corpus"
   ]
  },
  {
   "cell_type": "code",
   "execution_count": 15,
   "metadata": {},
   "outputs": [
    {
     "data": {
      "text/plain": [
       "[(0, 0.34086085378289599),\n",
       " (1, 0.14383825422506846),\n",
       " (2, -0.22083036238632733),\n",
       " (3, 0.17297770494732989),\n",
       " (4, -0.020827406056138874),\n",
       " (5, 0.058644886614146283),\n",
       " (6, -0.092818247321941036),\n",
       " (7, 0.031968217001968162),\n",
       " (8, 0.070734992840990996),\n",
       " (9, -0.1754715145991276)]"
      ]
     },
     "execution_count": 15,
     "metadata": {},
     "output_type": "execute_result"
    }
   ],
   "source": [
    "corpus_lsi[0][:10]"
   ]
  },
  {
   "cell_type": "markdown",
   "metadata": {},
   "source": [
    "Esses valores intuem o 'assunto' do primeiro texto como uma combinação linear dos tópicos encontrados"
   ]
  },
  {
   "cell_type": "code",
   "execution_count": null,
   "metadata": {
    "collapsed": true
   },
   "outputs": [],
   "source": []
  }
 ],
 "metadata": {
  "kernelspec": {
   "display_name": "Python 3",
   "language": "python",
   "name": "python3"
  },
  "language_info": {
   "codemirror_mode": {
    "name": "ipython",
    "version": 3
   },
   "file_extension": ".py",
   "mimetype": "text/x-python",
   "name": "python",
   "nbconvert_exporter": "python",
   "pygments_lexer": "ipython3",
   "version": "3.6.1"
  }
 },
 "nbformat": 4,
 "nbformat_minor": 2
}
